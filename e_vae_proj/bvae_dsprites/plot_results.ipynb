{
 "cells": [
  {
   "cell_type": "code",
   "execution_count": null,
   "metadata": {},
   "outputs": [],
   "source": [
    "import numpy as np\n",
    "import matplotlib.pyplot as plt\n",
    "import matplotlib.gridspec as gridspec\n",
    "from mpl_toolkits.axes_grid1 import make_axes_locatable\n",
    "plt.rcParams['axes.linewidth'] = .5\n",
    "plt.rcParams['xtick.major.width'] = .5\n",
    "plt.rcParams['ytick.major.width'] = .5\n",
    "plt.rcParams['xtick.minor.width'] = .0\n",
    "plt.rcParams['ytick.minor.width'] = .0\n",
    "plt.rcParams['axes.labelpad'] = 1\n",
    "plt.rcParams['axes.titlepad'] = 3\n",
    "fontsize=6"
   ]
  },
  {
   "cell_type": "code",
   "execution_count": null,
   "metadata": {},
   "outputs": [],
   "source": [
    "import torch\n",
    "import sys\n",
    "sys.path.insert(1, str('../..'))\n",
    "from utils.datasets import get_dataloaders\n",
    "from disvae.utils.modelIO import load_model"
   ]
  },
  {
   "cell_type": "markdown",
   "metadata": {},
   "source": [
    "# Image reconstruction"
   ]
  },
  {
   "cell_type": "code",
   "execution_count": null,
   "metadata": {
    "scrolled": false
   },
   "outputs": [],
   "source": [
    "# get visualisation data\n",
    "n_data = 2\n",
    "seed = 14\n",
    "torch.manual_seed(seed)\n",
    "dataloader = get_dataloaders('dsprites', batch_size=n_data*n_data)\n",
    "data = next(iter(dataloader))[0]\n",
    "img_data = np.zeros((64 * n_data, 64 * n_data))\n",
    "for i in range(n_data):\n",
    "    for j in range(n_data):\n",
    "        img_data[(i * 64):(i * 64 + 64), (j * 64):(j * 64 + 64)] = data[i * n_data + j, 0, :, :].numpy()"
   ]
  },
  {
   "cell_type": "code",
   "execution_count": null,
   "metadata": {},
   "outputs": [],
   "source": [
    "def make_pred(nlat, beta, data):\n",
    "    model = load_model(f'results/bvae_dsprites/z{nlat}_b{str(beta)}_s0', gpu_id=-1)\n",
    "    with torch.no_grad():\n",
    "        pred = model(data)[0]\n",
    "    img_pred = np.zeros((64 * n_data, 64 * n_data))\n",
    "    for i in range(n_data):\n",
    "        for j in range(n_data):\n",
    "            img_pred[(i * 64):(i * 64 + 64), (j * 64):(j * 64 + 64)] = pred[i * n_data + j, 0, :, :].numpy()\n",
    "    return img_pred"
   ]
  },
  {
   "cell_type": "code",
   "execution_count": null,
   "metadata": {},
   "outputs": [],
   "source": [
    "nlats_img = [10, 50, 100, 150, 200]\n",
    "betas_img = [0.002, 0.01, 0.05, 0.1, .5, 1.0, 5., 10.]\n",
    "N = n_data * 64\n",
    "img_big = np.zeros((len(nlats_img) * N, len(betas_img) * N))\n",
    "for i, nlat in enumerate(nlats_img):\n",
    "    for j, beta in enumerate(betas_img):\n",
    "        img_big[(i * N):(i * N + N), (j * N):(j * N + N)] = make_pred(nlat, beta, data)"
   ]
  },
  {
   "cell_type": "code",
   "execution_count": null,
   "metadata": {},
   "outputs": [],
   "source": [
    "fig, axes = plt.subplots(nrows=2, ncols=1, gridspec_kw={'height_ratios': [1, 8]},\n",
    "                         dpi=300, facecolor='w') \n",
    "plt.subplots_adjust(hspace=0.05)\n",
    "\n",
    "ax = axes[0]\n",
    "ax.imshow(img_data.T, origin='lower', cmap='binary_r')\n",
    "ax.axis('off')\n",
    "ax.text(-110, 64, 'Input:', fontsize=fontsize)\n",
    "ax.set_title('(g) Reconstruction', fontsize=fontsize, y=1.2)\n",
    "\n",
    "ax = axes[1]\n",
    "ax.imshow(img_big.T, origin='lower', cmap='binary_r')\n",
    "ax.set_xticks(np.arange(N, len(nlats_img) * N - 1, N) - .5, minor=True)\n",
    "ax.set_yticks(np.arange(N, len(betas_img) * N - 1, N) - .5, minor=True)\n",
    "ax.grid(which='minor', c='gray', lw=.5)\n",
    "ax.set_xticks(np.arange(N / 2, len(nlats_img) * N - 1, N))\n",
    "ax.set_yticks(np.arange(N / 2, len(betas_img) * N - 1, N))\n",
    "ax.set_xticklabels(nlats_img, fontsize=fontsize-1)\n",
    "ax.set_xlabel(r'Latent size', fontsize=fontsize)\n",
    "ax.set_yticklabels(betas_img, fontsize=fontsize-1)\n",
    "ax.set_ylabel(r'Normalized $\\beta$', fontsize=fontsize)\n",
    "ax.yaxis.tick_right()\n",
    "ax.yaxis.set_label_position(\"right\")\n",
    "ax.tick_params('both', length=2, pad=0.5, which='major', labelsize=fontsize-1)\n",
    "plt.savefig('reconstruction.pdf', bbox_inches='tight', pad_inches=0.05)\n",
    "plt.show()"
   ]
  },
  {
   "cell_type": "markdown",
   "metadata": {},
   "source": [
    "# Metric"
   ]
  },
  {
   "cell_type": "code",
   "execution_count": null,
   "metadata": {},
   "outputs": [],
   "source": [
    "# read grid\n",
    "betas = np.loadtxt('grid_betas')\n",
    "nlats = np.loadtxt('grid_nlats').astype(int)\n",
    "\n",
    "# read data\n",
    "LCM = np.load('results/metric_LCM.npy')\n",
    "MIG = np.load('results/metric_MIG.npy')\n",
    "MID = np.load('results/metric_MID.npy')\n",
    "REC = np.load('results/metric_REC.npy')\n",
    "KL = np.load('results/metric_KL.npy')\n",
    "LOSS = np.load('results/metric_LOSS.npy')\n",
    "\n",
    "# normalise\n",
    "REC /= 4096\n",
    "LOSS /= 4096\n",
    "KL /= nlats"
   ]
  },
  {
   "cell_type": "code",
   "execution_count": null,
   "metadata": {},
   "outputs": [],
   "source": [
    "# VAE region\n",
    "beta_loc_one = []\n",
    "for nlat in nlats:\n",
    "    unnorm_betas = betas / nlat * 4096\n",
    "    loc = np.argmin(np.abs(unnorm_betas - 1.))\n",
    "    beta_loc_one.append(loc)\n",
    "beta_loc_one = beta_loc_one[::-1]\n",
    "\n",
    "vae_curve = []\n",
    "for x, y in enumerate(beta_loc_one):\n",
    "    vae_curve.append([x, y])\n",
    "    vae_curve.append([x + 1, y])\n",
    "vae_curve.pop(0)\n",
    "vae_curve.pop(0)\n",
    "vae_curve = np.array(vae_curve, dtype=float)\n",
    "vae_curve[:, 0] += .5\n",
    "vae_curve[:, 1] -= .5\n",
    "\n",
    "vae_curve1 = vae_curve.copy()\n",
    "vae_curve1[:, 0] -= 1\n",
    "vae_curve1[:, 1] += 1\n",
    "\n",
    "vae_curve1[0, 0] += 1\n",
    "vae_curve1[0, 1] -= 1\n",
    "vae_curve[-1, 0] -= 1\n",
    "vae_curve[-1, 1] += 1"
   ]
  },
  {
   "cell_type": "code",
   "execution_count": null,
   "metadata": {},
   "outputs": [],
   "source": [
    "# under-trained region\n",
    "rec_loc_large = []\n",
    "for i, nlat in enumerate(nlats):\n",
    "    loc = np.argwhere(REC[:, i] < 0.13)[-1][0]\n",
    "    rec_loc_large.append(loc)\n",
    "rec_loc_large = rec_loc_large[::-1]\n",
    "\n",
    "under_curve = []\n",
    "for x, y in enumerate(rec_loc_large):\n",
    "    under_curve.append([x, y])\n",
    "    under_curve.append([x + 1, y])\n",
    "under_curve.insert(0, [under_curve[0][0], 31])\n",
    "under_curve.append([under_curve[-1][0], 31])\n",
    "under_curve.append([0, 31])\n",
    "\n",
    "under_curve = np.array(under_curve, dtype=float)\n",
    "under_curve[:, 0] -= .5\n",
    "under_curve[:, 1] += .5"
   ]
  },
  {
   "cell_type": "code",
   "execution_count": null,
   "metadata": {},
   "outputs": [],
   "source": [
    "def plot_metric(fig, ax, data, cm, title, vmin=None, vmax=None, xtick=False, ytick=False, \n",
    "                cm_scale=1, vae=False, under_trained=False):\n",
    "    im = ax.imshow(data[:, ::-1] * cm_scale, origin='lower', \n",
    "                   cmap=cm, vmin=vmin*cm_scale, vmax=vmax*cm_scale)\n",
    "    cbar = fig.colorbar(im, ax=ax, pad=.005)\n",
    "    cbar.ax.tick_params('both', length=0, pad=0.5, which='major', labelsize=fontsize-1)\n",
    "    ax.set_xticks(xticks_id)\n",
    "    ax.set_yticks(yticks_id)\n",
    "    if xtick:\n",
    "        ax.set_xticklabels(xticks, fontsize=fontsize-1)\n",
    "        ax.set_xlabel(r'Latent size', fontsize=fontsize)\n",
    "    else:\n",
    "        ax.set_xticklabels([])\n",
    "    if ytick:\n",
    "        ax.set_yticklabels(yticks, fontsize=fontsize-1)\n",
    "        ax.set_ylabel(r'Normalized $\\beta$', fontsize=fontsize)\n",
    "    else:\n",
    "        ax.set_yticklabels([])\n",
    "    if cm_scale != 1:\n",
    "        title += ' (×%d)' % cm_scale\n",
    "    ax.set_title(title, fontsize=fontsize)\n",
    "    ax.tick_params('both', length=2, width=0.5, pad=0.5, which='major')\n",
    "    ax.set_xticks(np.arange(len(nlats) - 1) + .5, minor=True)\n",
    "    ax.set_yticks(np.arange(len(betas)) + .5, minor=True)\n",
    "    ax.grid(which='minor', c='gray', lw=.1)\n",
    "    ax.spines[\"right\"].set_visible(False)\n",
    "    ax.spines[\"left\"].set_visible(False)\n",
    "    ax.spines[\"top\"].set_visible(False)\n",
    "    ax.spines[\"bottom\"].set_visible(False)\n",
    "    ax.set_xlim(-.6, 24.6)\n",
    "    ax.set_ylim(-.6, 31.6)\n",
    "    ax.plot([-.5, 24.5], [-.5, -.5], c='k', lw=.5)\n",
    "    ax.plot([24.5, 24.5], [-.5, 31.5], c='k', lw=.5)\n",
    "    ax.plot([24.5, -0.5], [31.5, 31.5], c='k', lw=.5)\n",
    "    ax.plot([-.5, -.5], [-.5, 31.5], c='k', lw=.5)\n",
    "    if vae:\n",
    "        ax.plot(vae_curve[:, 0], vae_curve[:, 1], c='w', lw=.7, zorder=10000)\n",
    "        ax.plot(vae_curve1[:, 0], vae_curve1[:, 1], c='w', lw=.7, zorder=10000)\n",
    "        ax.text(12.5, 9, 'VAE band', color='w', ha='center', fontsize=fontsize)\n",
    "        ax.arrow(12.5, 8.5, 0, -2.5, color='w', lw=0, width=.3, \n",
    "                 length_includes_head=True, zorder=10000, )\n",
    "    if under_trained:\n",
    "        ax.plot(under_curve[:, 0], under_curve[:, 1], c='magenta', lw=.7, zorder=10000)\n",
    "        ax.text(1, 30., 'Under-trained\\nregion', color='magenta', va='top', fontsize=fontsize)"
   ]
  },
  {
   "cell_type": "code",
   "execution_count": null,
   "metadata": {
    "scrolled": false
   },
   "outputs": [],
   "source": [
    "# settings\n",
    "xticks_id = np.array([0, 5, 9, 14, 19, 24])\n",
    "yticks_id = [0, 4, 8, 13, 17, 22, 26, 31]\n",
    "xticks = nlats[::-1][xticks_id]\n",
    "yticks = betas[yticks_id]\n",
    "cm_loss = 'gist_stern'\n",
    "cm_metric = 'turbo'\n",
    "\n",
    "# metrics\n",
    "fig, axes = plt.subplots(nrows=2, ncols=3, dpi=300, facecolor='w') \n",
    "plt.subplots_adjust(wspace=-.2)\n",
    "plot_metric(fig, axes[0, 0], LOSS, cm_loss, '(a) Total loss', vmin=0, vmax=.14, \n",
    "            xtick=False, ytick=True)\n",
    "plot_metric(fig, axes[0, 1], REC, cm_loss, '(b) Reconstr. loss', vmin=0, vmax=.14, \n",
    "            xtick=False, ytick=False, vae=True, under_trained=True)\n",
    "plot_metric(fig, axes[0, 2], KL, cm_loss, '(c) KL loss', vmin=0, vmax=3.5, \n",
    "            xtick=False, ytick=False)\n",
    "plot_metric(fig, axes[1, 0], LCM, cm_metric, '(d) LCM', vmin=0, vmax=1.0, \n",
    "            xtick=True, ytick=True)\n",
    "plot_metric(fig, axes[1, 1], MIG, cm_metric, '(e) MIG', vmin=0, vmax=0.01, \n",
    "            xtick=True, ytick=False, cm_scale=100)\n",
    "plot_metric(fig, axes[1, 2], MID, cm_metric, '(f) MID', vmin=0, vmax=0.01, \n",
    "            xtick=True, ytick=False, cm_scale=100)\n",
    "xticks_id = [5, 9, 14, 19, 24]\n",
    "x, y = np.meshgrid(xticks_id, yticks_id)\n",
    "axes[0, 2].scatter(x, y, c='w', marker='+', s=20, lw=0.5)\n",
    "\n",
    "plt.savefig('metrics.pdf', bbox_inches='tight', pad_inches=0.05)\n",
    "plt.show()"
   ]
  },
  {
   "cell_type": "markdown",
   "metadata": {},
   "source": [
    "# History"
   ]
  },
  {
   "cell_type": "code",
   "execution_count": null,
   "metadata": {},
   "outputs": [],
   "source": [
    "def plot_hist(fname):\n",
    "    hist = np.load(f'results/{fname}.npy')\n",
    "    fig, axes = plt.subplots(nrows=len(betas), ncols=len(nlats), dpi=200, facecolor='w')\n",
    "    for i in range(len(betas)):\n",
    "        for j in range(len(nlats)):\n",
    "            axes[i, j].plot(hist[i, j].reshape(-1), c='k', lw=.2)\n",
    "            axes[i, j].set_xticks([])\n",
    "            axes[i, j].set_yticks([])\n",
    "            axes[i, j].axis('off')\n",
    "    fig.suptitle(fname, y=.92)\n",
    "    plt.show()"
   ]
  },
  {
   "cell_type": "code",
   "execution_count": null,
   "metadata": {
    "scrolled": false
   },
   "outputs": [],
   "source": [
    "plot_hist('hist_loss')"
   ]
  }
 ],
 "metadata": {
  "kernelspec": {
   "display_name": "Python 3",
   "language": "python",
   "name": "python3"
  },
  "language_info": {
   "codemirror_mode": {
    "name": "ipython",
    "version": 3
   },
   "file_extension": ".py",
   "mimetype": "text/x-python",
   "name": "python",
   "nbconvert_exporter": "python",
   "pygments_lexer": "ipython3",
   "version": "3.8.6"
  }
 },
 "nbformat": 4,
 "nbformat_minor": 4
}
