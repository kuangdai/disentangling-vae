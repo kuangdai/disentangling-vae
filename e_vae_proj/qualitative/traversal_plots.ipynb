{
 "cells": [
  {
   "cell_type": "code",
   "execution_count": 2,
   "metadata": {},
   "outputs": [],
   "source": [
    "import numpy as np\n",
    "import matplotlib.pyplot as plt\n",
    "import matplotlib.gridspec as gridspec\n",
    "from mpl_toolkits.axes_grid1 import make_axes_locatable\n",
    "plt.rcParams['axes.linewidth'] = .5\n",
    "plt.rcParams['xtick.major.width'] = .5\n",
    "plt.rcParams['ytick.major.width'] = .5\n",
    "plt.rcParams['xtick.minor.width'] = .0\n",
    "plt.rcParams['ytick.minor.width'] = .0\n",
    "plt.rcParams['axes.labelpad'] = 1\n",
    "plt.rcParams['axes.titlepad'] = 3\n",
    "fontsize=6"
   ]
  },
  {
   "cell_type": "code",
   "execution_count": 3,
   "metadata": {},
   "outputs": [],
   "source": [
    "import torch\n",
    "import os, sys\n",
    "os.environ[\"KMP_DUPLICATE_LIB_OK\"]=\"TRUE\"\n",
    "qualitative = os.path.abspath('')\n",
    "e_vae_proj = os.path.dirname(qualitative)\n",
    "disvae = os.path.dirname(e_vae_proj)\n",
    "if not disvae in sys.path: sys.path.append(disvae)\n",
    "from utils.datasets import get_dataloaders\n",
    "from disvae.utils.modelIO import load_model\n",
    "\n",
    "# constraint\n",
    "cons='rec'"
   ]
  },
  {
   "cell_type": "code",
   "execution_count": 4,
   "metadata": {},
   "outputs": [],
   "source": [
    "seed = 1234\n",
    "nlat = 10\n",
    "batchs = 64\n",
    "epochs = 200\n",
    "lrs = [0.0005, 0.001]\n",
    "increments = [4, 2]\n",
    "if cons == \"rec\":\n",
    "    epsilon = 30\n",
    "else:\n",
    "    epsilon = 0.08"
   ]
  },
  {
   "cell_type": "code",
   "execution_count": 5,
   "metadata": {},
   "outputs": [],
   "source": [
    "def traverse_latent_space(model_path, data):\n",
    "    # load model & get (reconstructions, latent posteriors, latent_sample) for data\n",
    "    model = load_model('path', gpu_id=-1)\n",
    "    with torch.no_grad():\n",
    "        recons, lat_dist, lat_sample = model(data)\n",
    "    \n",
    "    # vary the latent sample based on the given latent posteriors & get reconstructions\n",
    "    imgs = []\n",
    "    for i, z0 in enumerate(lat_sample):\n",
    "        for z in np.linspace(lat_dist[i][0] - np.exp(lat_dist[i][1]), lat_dist[i][0] - np.exp(lat_dist[i][1]), 10):\n",
    "            lat_sample[i] = z\n",
    "            imgs.append(self.decoder(lat_sample[i]))\n",
    "            lat_sample[i] = z0\n",
    "    return imgs"
   ]
  },
  {
   "cell_type": "code",
   "execution_count": 6,
   "metadata": {},
   "outputs": [],
   "source": [
    "def plot_traversals(model_path, data):\n",
    "    # get traversal imgs\n",
    "    imgs = traverse_latent_space(model_path, data)\n",
    "    \n",
    "    # plot grid of varying latent_sample (x), latent_variable (y)\n",
    "    figure, axes = plt.figure(dpi=200)"
   ]
  },
  {
   "cell_type": "code",
   "execution_count": null,
   "metadata": {},
   "outputs": [],
   "source": [
    "# get visualisation data\n",
    "n_data = 1\n",
    "seed = 14\n",
    "torch.manual_seed(seed)\n",
    "dataloader = get_dataloaders('celeba', batch_size=n_data*n_data)\n",
    "data = next(iter(dataloader))[0]\n",
    "img_data = np.zeros((64 * n_data, 64 * n_data))\n",
    "for i in range(n_data):\n",
    "    for j in range(n_data):\n",
    "        img_data[(i * 64):(i * 64 + 64), (j * 64):(j * 64 + 64)] = data[i * n_data + j, 0, :, :].numpy()"
   ]
  },
  {
   "cell_type": "code",
   "execution_count": 7,
   "metadata": {},
   "outputs": [],
   "source": [
    "celeba_evae_models = [\n",
    "    f\"evae_celeba/{cons}_{epochs}ep_z{nlat}_e{epsilon}_s{seed}_lr{lr}_incr{increment}\"\n",
    "    for lr in lrs\n",
    "    for increment in increments\n",
    "]\n",
    "\n",
    "celeba_evae_imgs_example = traverse_latent_space(celeba_evae_models[0], )"
   ]
  },
  {
   "cell_type": "code",
   "execution_count": null,
   "metadata": {},
   "outputs": [],
   "source": []
  }
 ],
 "metadata": {
  "interpreter": {
   "hash": "b3ba2566441a7c06988d0923437866b63cedc61552a5af99d1f4fb67d367b25f"
  },
  "kernelspec": {
   "display_name": "Python 3",
   "language": "python",
   "name": "python3"
  },
  "language_info": {
   "codemirror_mode": {
    "name": "ipython",
    "version": 3
   },
   "file_extension": ".py",
   "mimetype": "text/x-python",
   "name": "python",
   "nbconvert_exporter": "python",
   "pygments_lexer": "ipython3",
   "version": "3.8.5"
  }
 },
 "nbformat": 4,
 "nbformat_minor": 2
}
